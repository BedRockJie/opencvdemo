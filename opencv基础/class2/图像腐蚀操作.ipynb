{
 "cells": [
  {
   "cell_type": "code",
   "execution_count": 1,
   "metadata": {},
   "outputs": [],
   "source": [
    "import matplotlib.pyplot as plt\n",
    "import cv2\n",
    "import numpy as np\n",
    "%matplotlib inline"
   ]
  },
  {
   "cell_type": "code",
   "execution_count": 3,
   "metadata": {},
   "outputs": [],
   "source": [
    "img = cv2.imread('dige.png')\n",
    "\n",
    "cv2.imshow('timg.jpg',img)\n",
    "cv2.waitKey(0)\n",
    "cv2.destroyAllWindows()"
   ]
  },
  {
   "cell_type": "code",
   "execution_count": 9,
   "metadata": {},
   "outputs": [],
   "source": [
    "kernel = np.ones((5,5),np.uint8)\n",
    "erosion = cv2.erode(img,kernel,iterations = 1)\n",
    "cv2.imshow('erosion',erosion)\n",
    "cv2.waitKey(0)\n",
    "cv2.destroyAllWindows()"
   ]
  },
  {
   "cell_type": "code",
   "execution_count": 10,
   "metadata": {},
   "outputs": [],
   "source": [
    "dige_dilate = cv2.dilate(erosion,kernel,iterations = 2)\n",
    "cv2.imshow('erosion',dige_dilate)\n",
    "cv2.waitKey(0)\n",
    "cv2.destroyAllWindows()"
   ]
  },
  {
   "cell_type": "markdown",
   "metadata": {},
   "source": [
    "### 开运算和闭运算\n"
   ]
  },
  {
   "cell_type": "code",
   "execution_count": 11,
   "metadata": {},
   "outputs": [],
   "source": [
    "#先腐蚀后膨胀\n",
    "img = cv2.imread('dige.png')\n",
    "\n",
    "kernel = np.ones((5,5),np.uint8)\n",
    "opening = cv2.morphologyEx(img,cv2.MORPH_OPEN,kernel)\n",
    "\n",
    "cv2.imshow('opening',opening)\n",
    "cv2.waitKey(0)\n",
    "cv2.destroyAllWindows()"
   ]
  },
  {
   "cell_type": "code",
   "execution_count": 12,
   "metadata": {},
   "outputs": [],
   "source": [
    "#先膨胀后腐蚀\n",
    "img = cv2.imread('dige.png')\n",
    "\n",
    "kernel = np.ones((5,5),np.uint8)\n",
    "opening = cv2.morphologyEx(img,cv2.MORPH_CLOSE,kernel)\n",
    "\n",
    "cv2.imshow('opening',opening)\n",
    "cv2.waitKey(0)\n",
    "cv2.destroyAllWindows()"
   ]
  },
  {
   "cell_type": "markdown",
   "metadata": {},
   "source": [
    "##### 梯度运算 = 膨胀 - 腐蚀  （结果）"
   ]
  },
  {
   "cell_type": "code",
   "execution_count": 13,
   "metadata": {},
   "outputs": [],
   "source": [
    "pie = cv2.imread('pil.png')\n",
    "\n",
    "kernel = np.ones((7,7),np.uint8)\n",
    "dilate = cv2.dilate(pie,kernel,iterations = 5)\n",
    "erosion = cv2.erode(pie,kernel,iterations = 5)\n",
    "\n",
    "res = np.hstack((dilate,erosion))\n",
    "\n",
    "cv2.imshow('res',res)\n",
    "cv2.waitKey(0)\n",
    "cv2.destroyAllWindows()"
   ]
  },
  {
   "cell_type": "code",
   "execution_count": 14,
   "metadata": {},
   "outputs": [],
   "source": [
    "gradient = cv2.morphologyEx(pie,cv2.MORPH_GRADIENT,kernel)\n",
    "\n",
    "cv2.imshow('gradient',gradient)\n",
    "cv2.waitKey(0)\n",
    "cv2.destroyAllWindows()"
   ]
  },
  {
   "cell_type": "markdown",
   "metadata": {},
   "source": [
    "##### 图像梯度运算时不建议  X Y 同时运算会产生重影   分开效果会更好"
   ]
  },
  {
   "cell_type": "markdown",
   "metadata": {},
   "source": [
    "######  图像梯度运算时的Sobel 算子"
   ]
  },
  {
   "cell_type": "markdown",
   "metadata": {},
   "source": [
    "```dst = cv2.Sobel(src,ddeptth,dx,dy,ksize)```\n",
    "\n",
    "- ddepth 图像的深度\n",
    "- dx, dy 分别表示图像的水平方向和竖直方向\n",
    "- ksize，Sobel算子的大小\n",
    "\n",
    "######  从右向左，从下往上  计算的方向"
   ]
  },
  {
   "cell_type": "markdown",
   "metadata": {},
   "source": [
    "###### Scharr 算子\n",
    "##   差异更加明显\n",
    "\n",
    "###### laplacian 算子   （对噪音点比较敏感）\n",
    "```\n",
    "0 , 1, 0\n",
    "1, -4 ,1\n",
    "0, 1 , 0\n",
    "```"
   ]
  },
  {
   "cell_type": "code",
   "execution_count": 1,
   "metadata": {},
   "outputs": [],
   "source": [
    "import cv2"
   ]
  },
  {
   "cell_type": "code",
   "execution_count": 3,
   "metadata": {},
   "outputs": [],
   "source": [
    "def cv_show(name,pic):\n",
    "    cv2.imshow(name,pic)\n",
    "    cv2.waitKey(0)\n",
    "    cv2.destroyAllWindows()"
   ]
  },
  {
   "cell_type": "code",
   "execution_count": 10,
   "metadata": {},
   "outputs": [],
   "source": [
    "import cv2\n",
    "import numpy as np\n",
    "img =  cv2.imread('timg.jpg')\n",
    "sobelx = cv2.Sobel(img,cv2.CV_64F,1,0,ksize = 3)\n",
    "sobely = cv2.Sobel(img,cv2.CV_64F,0,1,ksize = 3) #浮点数变换 运算\n",
    "sobelx = cv2.convertScaleAbs(sobelx)\n",
    "sobely = cv2.convertScaleAbs(sobely)# 取绝对值\n",
    "sobelxy = cv2.addWeighted(sobelx,0.5,sobely,0.5,0)\n",
    "# cv_show('sobelx',sobelxy)\n",
    "\n",
    "scharrx = cv2.Scharr(img,cv2.CV_64F,1,0)\n",
    "scharry = cv2.Scharr(img,cv2.CV_64F,0,1)\n",
    "scharrx = cv2.convertScaleAbs(scharrx)\n",
    "scharry = cv2.convertScaleAbs(scharry)# 取绝对值\n",
    "scharrxy = cv2.addWeighted(scharrx,0.5,scharry,0.5,0)\n",
    "# cv_show('scharr',scharrxy)\n",
    "\n",
    "laplacian = cv2.Laplacian(img,cv2.CV_64F)\n",
    "laplacian = cv2.convertScaleAbs(laplacian)\n",
    "\n",
    "res = np.hstack((sobelxy,scharrxy,laplacian))\n",
    "cv_show('laplacian',res)"
   ]
  }
 ],
 "metadata": {
  "kernelspec": {
   "display_name": "Python 3",
   "language": "python",
   "name": "python3"
  },
  "language_info": {
   "codemirror_mode": {
    "name": "ipython",
    "version": 3
   },
   "file_extension": ".py",
   "mimetype": "text/x-python",
   "name": "python",
   "nbconvert_exporter": "python",
   "pygments_lexer": "ipython3",
   "version": "3.8.1"
  }
 },
 "nbformat": 4,
 "nbformat_minor": 4
}
