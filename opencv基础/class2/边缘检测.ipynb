{
 "cells": [
  {
   "cell_type": "code",
   "execution_count": 2,
   "metadata": {},
   "outputs": [],
   "source": [
    "import cv2\n",
    "import numpy as np"
   ]
  },
  {
   "cell_type": "markdown",
   "metadata": {},
   "source": [
    "## Canny边缘检测算法\n",
    "\n",
    "1. 使用高斯滤波器,以图象更加平滑,滤除噪声.\n",
    "2. 计算图像中每个像素点的梯度强度和方向.\n",
    "3. 应用非极大值抑制,以消除边缘检测带来的散杂响应.\n",
    "4. 应用双阈值检测来确定真实存在和潜在边缘.\n",
    "5. 通过抑制孤立的弱边缘最终完成检测.\n",
    "\n",
    "```\n",
    "   0.0924 0.1192  0.0924\n",
    "H = 0.1192 0.1538  0.1192   <----进行归一化处理\n",
    "   0.0924 0.1192  0.0924\n",
    "```\n",
    "#### sobel 算子 梯度和方向\n",
    "\n",
    "#### 非极大值抑制\n",
    "    `线性插值法`\n",
    "    \n",
    "    使用简单的方法\n",
    "        把一个像素周围有八个像素 离散为八个方向,只用计算前后即可\n",
    "#### 双阈值检测\n",
    "    梯度值 > maxValue 处理成边界\n",
    "    miaValue < 梯度值 < maxValue 连有边界保留  否则舍弃\n",
    "    梯度 < minVal 舍弃"
   ]
  },
  {
   "cell_type": "code",
   "execution_count": 3,
   "metadata": {},
   "outputs": [],
   "source": [
    "def cv_show(name,pic):\n",
    "    cv2.imshow(name,pic)\n",
    "    cv2.waitKey(0)\n",
    "    cv2.destroyAllWindows()"
   ]
  },
  {
   "cell_type": "code",
   "execution_count": 5,
   "metadata": {},
   "outputs": [],
   "source": [
    "img = cv2.imread('Nemesis.jpg',cv2.IMREAD_GRAYSCALE)\n",
    "\n",
    "v1 = cv2.Canny(img,120,150)\n",
    "v2 = cv2.Canny(img,50,100)\n",
    "\n",
    "res = np.hstack((v1,v2))\n",
    "cv_show('res',res)"
   ]
  }
 ],
 "metadata": {
  "kernelspec": {
   "display_name": "Python 3",
   "language": "python",
   "name": "python3"
  },
  "language_info": {
   "codemirror_mode": {
    "name": "ipython",
    "version": 3
   },
   "file_extension": ".py",
   "mimetype": "text/x-python",
   "name": "python",
   "nbconvert_exporter": "python",
   "pygments_lexer": "ipython3",
   "version": "3.8.1"
  }
 },
 "nbformat": 4,
 "nbformat_minor": 4
}
