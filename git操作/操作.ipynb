{
 "cells": [
  {
   "cell_type": "markdown",
   "metadata": {
    "collapsed": true,
    "pycharm": {
     "name": "#%% md\n"
    }
   },
   "source": [
    "## git同步远程仓库的更改\n",
    "\n",
    "- 查看当前分支`git remote -v`\n",
    "- 配置仓库路径`git remote add upstream <url>`\n",
    "- 再次查看一遍`git remote -v`\n",
    "- 抓取原仓库的修改文件`git fetch upstream`\n",
    "- 切换刀master分支 `git checkout master`\n",
    "- 合并远程的master分支 `git merge upstream/master`\n",
    "- 最后使用 `git pull`上传到文件"
   ]
  },
  {
   "cell_type": "code",
   "execution_count": null,
   "metadata": {
    "pycharm": {
     "name": "#%%\n"
    }
   },
   "outputs": [],
   "source": [
    "\n"
   ]
  }
 ],
 "metadata": {
  "kernelspec": {
   "display_name": "Python 3",
   "language": "python",
   "name": "python3"
  },
  "language_info": {
   "codemirror_mode": {
    "name": "ipython",
    "version": 3
   },
   "file_extension": ".py",
   "mimetype": "text/x-python",
   "name": "python",
   "nbconvert_exporter": "python",
   "pygments_lexer": "ipython3",
   "version": "3.6.9"
  }
 },
 "nbformat": 4,
 "nbformat_minor": 1
}
